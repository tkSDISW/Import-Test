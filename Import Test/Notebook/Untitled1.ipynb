{
 "cells": [
  {
   "cell_type": "code",
   "execution_count": 7,
   "id": "f64be145-b269-4299-9c3e-11ba9c6c7774",
   "metadata": {},
   "outputs": [
    {
     "ename": "SyntaxError",
     "evalue": "invalid syntax (673591779.py, line 17)",
     "output_type": "error",
     "traceback": [
      "\u001b[0;36m  Cell \u001b[0;32mIn[7], line 17\u001b[0;36m\u001b[0m\n\u001b[0;31m    capellambse.decl.dump(\"name\":'Pistons')\u001b[0m\n\u001b[0m                                ^\u001b[0m\n\u001b[0;31mSyntaxError\u001b[0m\u001b[0;31m:\u001b[0m invalid syntax\n"
     ]
    }
   ],
   "source": [
    "import capellambse\n",
    "from capellambse import decl\n",
    "\n",
    "import ipywidgets as widgets\n",
    "from IPython.core.display import HTML\n",
    "import numpy as np\n",
    "import pandas as pd \n",
    "from IPython.display import Markdown\n",
    "\n",
    "\n",
    "resources = {\n",
    "    \"Import-Test\": \"Import-Test/Import Test\",\n",
    "}\n",
    "path_to_model = \"../Import Test.aird\"\n",
    "model = capellambse.MelodyModel(path_to_model, resources=resources)\n",
    "\n",
    "capellambse.decl.dump(\"name\":'Pistons')"
   ]
  },
  {
   "cell_type": "code",
   "execution_count": null,
   "id": "297dd2ce-896e-4ab5-9abf-2e20d087a2f1",
   "metadata": {},
   "outputs": [],
   "source": []
  }
 ],
 "metadata": {
  "kernelspec": {
   "display_name": "Python 3 (ipykernel)",
   "language": "python",
   "name": "python3"
  },
  "language_info": {
   "codemirror_mode": {
    "name": "ipython",
    "version": 3
   },
   "file_extension": ".py",
   "mimetype": "text/x-python",
   "name": "python",
   "nbconvert_exporter": "python",
   "pygments_lexer": "ipython3",
   "version": "3.11.7"
  }
 },
 "nbformat": 4,
 "nbformat_minor": 5
}
